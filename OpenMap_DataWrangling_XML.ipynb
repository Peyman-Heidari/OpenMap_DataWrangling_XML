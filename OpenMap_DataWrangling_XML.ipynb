{
 "cells": [
  {
   "cell_type": "markdown",
   "metadata": {},
   "source": [
    "# OpenStreetMap Data Case Study (St. Louis)\n",
    "\n",
    "## Map Area\n",
    "\n",
    "St. Louis, MO, United States\n",
    "- [Data source](https://mapzen.com/data/metro-extracts/metro/saint-louis_missouri/)\n",
    "\n",
    "This map was chosen since I live in this area."
   ]
  },
  {
   "cell_type": "markdown",
   "metadata": {},
   "source": [
    "First, all required libraried are impoted."
   ]
  },
  {
   "cell_type": "code",
   "execution_count": 1,
   "metadata": {
    "collapsed": true
   },
   "outputs": [],
   "source": [
    "import xml.etree.cElementTree as ET\n",
    "import pprint\n",
    "from collections import defaultdict\n",
    "import re\n",
    "import pandas as pd\n",
    "import sqlite3 as sql\n",
    "import os"
   ]
  },
  {
   "cell_type": "markdown",
   "metadata": {},
   "source": [
    "## Problems encountered with the data"
   ]
  },
  {
   "cell_type": "markdown",
   "metadata": {},
   "source": [
    "After downloading the data, I performed preliminary audition of the data using the included functions (count_tags, key_type, process_key_values). After the preliminary audition, four major problems were detected:\n",
    "- Abbreviated street names such as : 'S Cedar Bluff Dr', 'Ogle Rd'\n",
    "- NHD type of data in tags such as: 'NHD:FCode'\n",
    "- tiger type of data in tags such as: 'tiger:name_type_1'\n",
    "- gnis type of data in tags such as : 'gnis:ST_num'\n",
    "In the foloowing sections I will explain what I have done to solve these problems."
   ]
  },
  {
   "cell_type": "code",
   "execution_count": 2,
   "metadata": {
    "collapsed": true
   },
   "outputs": [],
   "source": [
    "def count_tags(filename):\n",
    "    tags_counted = {}\n",
    "    context = ET.iterparse(filename, events=(\"start\", ))\n",
    "    for event, elem in context:\n",
    "        if elem.tag not in tags_counted:\n",
    "            tags_counted[elem.tag] = 1\n",
    "        else:\n",
    "            tags_counted[elem.tag] = tags_counted[elem.tag]+1\n",
    "    return tags_counted\n"
   ]
  },
  {
   "cell_type": "code",
   "execution_count": 3,
   "metadata": {
    "collapsed": false
   },
   "outputs": [
    {
     "data": {
      "text/plain": [
       "{'bounds': 1,\n",
       " 'member': 13288,\n",
       " 'nd': 1965462,\n",
       " 'node': 1729283,\n",
       " 'osm': 1,\n",
       " 'relation': 1034,\n",
       " 'tag': 1055373,\n",
       " 'way': 167289}"
      ]
     },
     "execution_count": 3,
     "metadata": {},
     "output_type": "execute_result"
    }
   ],
   "source": [
    "#data_file = 'stlouis-sample.osm'\n",
    "data_file = 'saint-louis_missouri.osm'\n",
    "\n",
    "count_tags(data_file)"
   ]
  },
  {
   "cell_type": "code",
   "execution_count": 5,
   "metadata": {
    "collapsed": false
   },
   "outputs": [
    {
     "name": "stdout",
     "output_type": "stream",
     "text": [
      "{'NHD': 45522,\n",
      " 'lower': 415885,\n",
      " 'lower_colon': 567701,\n",
      " 'other': 26264,\n",
      " 'problemchars': 1}\n"
     ]
    }
   ],
   "source": [
    "lower = re.compile(r'^([a-z]|_)*$')\n",
    "lower_colon = re.compile(r'^([a-z]|_)*:([a-z]|_)*$')\n",
    "problemchars = re.compile(r'[=\\+/&<>;\\'\"\\?%#$@\\,\\. \\t\\r\\n]')\n",
    "\n",
    "\n",
    "def key_type(element, keys):\n",
    "    if element.tag == \"tag\":\n",
    "        k = element.attrib['k']\n",
    "        if lower.search(k):\n",
    "            keys['lower'] = keys['lower']+1\n",
    "        elif lower_colon.search(k):\n",
    "            keys['lower_colon'] = keys['lower_colon']+1\n",
    "        elif problemchars.search(k):\n",
    "            keys['problemchars'] = keys['problemchars']+1\n",
    "        elif k.startswith(\"NHD\"):\n",
    "            keys['NHD'] = keys['NHD']+1\n",
    "            #print (k)\n",
    "            #print (element.attrib['v'])\n",
    "            #print ('++++++++++++')\n",
    "        else:\n",
    "            keys['other'] = keys['other']+1\n",
    "            #print (k)\n",
    "            #print (element.attrib['v'])\n",
    "            #print ('++++++++++++')\n",
    "    return keys\n",
    "\n",
    "\n",
    "\n",
    "def process_k_values(filename):\n",
    "    keys = {\"lower\": 0, \"lower_colon\": 0, \"problemchars\": 0,\"NHD\": 0, \"other\": 0}\n",
    "    for _, element in ET.iterparse(filename):\n",
    "        keys = key_type(element, keys)\n",
    "\n",
    "    return keys\n",
    "\n",
    "keys = process_k_values(data_file)\n",
    "pprint.pprint(keys)"
   ]
  },
  {
   "cell_type": "code",
   "execution_count": 6,
   "metadata": {
    "collapsed": false
   },
   "outputs": [],
   "source": [
    "street_type_re = re.compile(r'\\b\\S+\\.?$', re.IGNORECASE)\n",
    "\n",
    "expected = [\"Street\", \"Avenue\", \"Boulevard\", \"Drive\", \"Court\", \"Place\", \"Square\", \"Lane\", \"Road\", \n",
    "            \"Trail\", \"Parkway\", \"Commons\", 'Circle', 'Way', 'Plaza']\n",
    "\n",
    "\n",
    "def audit_street_type(street_types, street_name):\n",
    "    m = street_type_re.search(street_name)\n",
    "    if m:\n",
    "        street_type = m.group()\n",
    "        if street_type not in expected:\n",
    "            street_types[street_type].add(street_name)\n",
    "            \n",
    "def is_street_name(elem):\n",
    "    return (elem.attrib['k']==\"addr:street\")\n",
    "\n",
    "\n",
    "def audit(osmfile):\n",
    "    osm_file = open(osmfile, \"rb\")\n",
    "    street_types = defaultdict(set)\n",
    "    for event, elem in ET.iterparse(osm_file, events=(\"start\",)):\n",
    "        if elem.tag == \"node\" or elem.tag == \"way\":\n",
    "            for tag in elem.iter(\"tag\"):\n",
    "                if is_street_name(tag):\n",
    "                    audit_street_type(street_types, tag.attrib['v'])\n",
    "    osm_file.close()\n",
    "    return street_types\n",
    "\n",
    "\n"
   ]
  },
  {
   "cell_type": "code",
   "execution_count": 7,
   "metadata": {
    "collapsed": false
   },
   "outputs": [
    {
     "data": {
      "text/plain": [
       "defaultdict(set,\n",
       "            {'100': {'Highway 100'},\n",
       "             '109': {'MO 109'},\n",
       "             '111': {'State Route 111'},\n",
       "             '143': {'12495 State Route 143'},\n",
       "             '157': {'South State Route 157'},\n",
       "             '2085': {'West County Center #2085'},\n",
       "             '21': {'Business 21'},\n",
       "             '296-7050': {'1253 Water Tower PlaceArnold, MO 63010(636) 296-7050'},\n",
       "             '300': {'Olive Blvd #300'},\n",
       "             '416-0707': {'3501 Lemay Ferry RoadSaint Louis, MO 63125-4425(314) 416-0707'},\n",
       "             '464-3128': {'6116 2nd StKimmswick, Missouri 63052(636) 464-3128'},\n",
       "             '50': {'E. US Highway 50',\n",
       "              'W. US Highway 50',\n",
       "              'West US Highway 50'},\n",
       "             '544-0411': {'1300 Lemay Ferry RoadSaint Louis, MO 63125-2403(314) 544-0411'},\n",
       "             '631-0310': {'1310 Lemay FerryLemay, MO 63125(314) 631-0310'},\n",
       "             '631-2866': {'260 Hoffmeister Ave, Saint Louis, MO(314) 631-2866'},\n",
       "             '631-3333': {'1101 Lemay Ferry RdSt Louis, MO 63125-1747(314) 631-3333'},\n",
       "             '67': {'N US 67', 'North Highway 67'},\n",
       "             '892-9800': {'3805 Reavis Barracks RoadSaint Louis, MO 63125-2443(314) 892-9800'},\n",
       "             '894-8716': {'2666 Telegraph RdSaint Louis, MO 63125(314) 894-8716'},\n",
       "             '94': {'Highway 94', 'S. Hwy  94'},\n",
       "             'AP': {'Highway AP'},\n",
       "             'AVE': {'Washington AVE'},\n",
       "             'Av.': {'E. Lockwood Av.'},\n",
       "             'Ave': {'Bayless Ave',\n",
       "              'Bell Ave',\n",
       "              'Bowles Ave',\n",
       "              'Carlyle Ave',\n",
       "              'Daggett Ave',\n",
       "              'E Lockwood Ave',\n",
       "              'Gravois Ave',\n",
       "              'Lebanon Ave',\n",
       "              'Montclaire Ave',\n",
       "              'Robert Ave',\n",
       "              'S. Lincoln Ave',\n",
       "              'Shaw Ave',\n",
       "              'W Essex Ave',\n",
       "              'Washington Ave'},\n",
       "             'Ave.': {'Bowles Ave.',\n",
       "              'N. Rodgers Ave.',\n",
       "              'Oakland Ave.',\n",
       "              'Rapp Ave.'},\n",
       "             'Bend': {'Big Bend'},\n",
       "             'Blvd': {'82nd Blvd',\n",
       "              'Cambridge Blvd',\n",
       "              'Delmar Blvd',\n",
       "              'Enclave Blvd',\n",
       "              'Lewis and Clark Blvd',\n",
       "              'Pierce Blvd',\n",
       "              'South Grand Blvd',\n",
       "              'St Louis Mills Blvd'},\n",
       "             'Blvd.': {'5700 Lindell Blvd.', 'Delmar Blvd.', 'German Blvd.'},\n",
       "             'Boulelvard': {'South Grand Boulelvard'},\n",
       "             'Broadway': {'East Broadway',\n",
       "              'North Broadway',\n",
       "              'S. Broadway',\n",
       "              'South Broadway'},\n",
       "             'Center': {'Flower Valley Shopping Center',\n",
       "              'Hilltown Village Center',\n",
       "              'Lincoln Center',\n",
       "              'Stonegate Shopping Center',\n",
       "              'West County Center'},\n",
       "             'Church': {'St Nicholas Catholic Church'},\n",
       "             'Clark': {'Clark'},\n",
       "             'Cognac': {'Cognac'},\n",
       "             'Corners': {'Washington Corners'},\n",
       "             'Crossing': {'Edwardsville Crossing',\n",
       "              'Richardson Crossing',\n",
       "              'Washington Crossing'},\n",
       "             'Ct': {'Sandpointe Ct'},\n",
       "             'Ctr': {'North Main Ctr'},\n",
       "             'Ctr.': {'N. Main Ctr.'},\n",
       "             'D': {'MO D'},\n",
       "             'DD': {'Highway DD'},\n",
       "             'Dade': {'Dade'},\n",
       "             'Delmar': {'Delmar'},\n",
       "             'Dr': {'Aldi Dr',\n",
       "              'Carlyle Dr',\n",
       "              'Dartmouth Dr',\n",
       "              'Edwardsville Crossing Dr',\n",
       "              'Greenmount Crossing Dr',\n",
       "              'Mid Rivers Mall Dr',\n",
       "              'S Cedar Bluff Dr',\n",
       "              'S. Smiley Dr',\n",
       "              'United Dr'},\n",
       "             'Dr.': {'Edwardsville Crossing Dr.',\n",
       "              'Green Mount Crossing Dr.',\n",
       "              'Keystone Dr.',\n",
       "              'S. Highway Dr.',\n",
       "              'S. Hwy Dr.'},\n",
       "             'E': {'North Outer Rd E'},\n",
       "             'East': {'Frank Scott Parkway East',\n",
       "              'Frank Scott parkway East',\n",
       "              'rank Scott Parkway East'},\n",
       "             'Estates': {'Fairway Estates',\n",
       "              'Meadowbrook Country Club Estates'},\n",
       "             'Expressway': {'Maryland Heights Expressway'},\n",
       "             'F': {'Highway F'},\n",
       "             'FSU': {'Green Mount Commons FSU'},\n",
       "             'Ferry': {'tesson Ferry'},\n",
       "             'Galleria': {'Saint Louis Galleria'},\n",
       "             'Geyer': {'Geyer'},\n",
       "             'Greenmount': {'N. Greenmount'},\n",
       "             'Holmes': {'South Holmes'},\n",
       "             'Jefferson': {'South Jefferson'},\n",
       "             'K': {'HWY K', 'Highway K'},\n",
       "             'Kingshighway': {'Kingshighway', 'N. Kingshighway'},\n",
       "             'Lindbergh': {'South Lindbergh'},\n",
       "             'Ln': {'Sawgrass Ln', 'W Saint Anthony Ln'},\n",
       "             'M': {'Highway M'},\n",
       "             'MO': {'3661 Reavis Barracks Road, Saint Louis, MO'},\n",
       "             'MO-94': {'MO-94'},\n",
       "             'N': {'Highway N'},\n",
       "             'P': {'State Highway P'},\n",
       "             'Park': {'Regency Park'},\n",
       "             'Pkwy': {'Wentzville Pkwy'},\n",
       "             'Pky': {'Meadows Pky'},\n",
       "             'RD': {'Tesson Ferry RD'},\n",
       "             'Rd': {'Bellefontaine Rd',\n",
       "              'Center Grove Rd',\n",
       "              'Chesterfield Airport Rd',\n",
       "              'Dorsett Rd',\n",
       "              'E. Chain of Rocks Rd',\n",
       "              'Greenmount Crossing Rd',\n",
       "              'Hanna Rd',\n",
       "              'Howdershell Rd',\n",
       "              'Independence Rd',\n",
       "              'Kisker Rd',\n",
       "              'Kyle Rd',\n",
       "              'Larimore Rd',\n",
       "              'Maple Rd',\n",
       "              'Missouri Bottom Rd',\n",
       "              'Motherhead Rd',\n",
       "              'Moye School Rd',\n",
       "              'Muegge Rd',\n",
       "              'N Green Mt Rd',\n",
       "              'N. 7 Hills Rd',\n",
       "              'N. Greenmount Rd',\n",
       "              'North Greenmount Rd',\n",
       "              \"O'Fallon Rd\",\n",
       "              'Ogle Rd',\n",
       "              'Old Troy Rd',\n",
       "              'Rusty Rd',\n",
       "              'Weldon Spring Rd',\n",
       "              'Zumbehl Rd'},\n",
       "             'Rd.': {'Big Bend Rd.', 'Dorsett Rd.'},\n",
       "             'Ridge': {'Boone Valley Ridge'},\n",
       "             'Schluersburg': {'Schluersburg'},\n",
       "             'South': {'Highway 61 South', 'Hwy 94 South'},\n",
       "             'St': {'2742 Locust St',\n",
       "              'E Locust St',\n",
       "              'E. 5th St',\n",
       "              'E. Third St',\n",
       "              'E. Washington St',\n",
       "              'Locust St',\n",
       "              'N 2nd St',\n",
       "              'N 3rd St',\n",
       "              'N 4th St',\n",
       "              'N Smiley St',\n",
       "              'N. Illinois St',\n",
       "              'N. Main St',\n",
       "              'South Lincoln St',\n",
       "              'W State St',\n",
       "              'W. Second St',\n",
       "              'W. Thurd St'},\n",
       "             'Station': {'Jungs Station'},\n",
       "             'US-50': {'W US-50'},\n",
       "             'Union': {'W. Union'},\n",
       "             'View': {'Country Club View'},\n",
       "             'Vitae': {'South Arbor Vitae'},\n",
       "             'Washingotn': {'Washingotn'},\n",
       "             'Washington': {'Washington'},\n",
       "             'Williams': {'Williams'},\n",
       "             'Woodlawn': {'North Woodlawn'}})"
      ]
     },
     "execution_count": 7,
     "metadata": {},
     "output_type": "execute_result"
    }
   ],
   "source": [
    "audit(data_file)"
   ]
  },
  {
   "cell_type": "markdown",
   "metadata": {},
   "source": [
    "## Abrbreviated street name\n",
    "A list of expected street names were provided to a function (update_name) and based on a dictionary of abbreviations, the function changes abbreviated street names to full expected ones. For example:\n",
    "- 'S Cedar Bluff Dr' was changed to 'S Cedar Bluff Drive'\n",
    "- 'Ogle Rd' was changed to 'Ogle Road'"
   ]
  },
  {
   "cell_type": "code",
   "execution_count": 2,
   "metadata": {
    "collapsed": true
   },
   "outputs": [],
   "source": [
    "mapping = { \"St\": \"Street\", \"St.\": \"Street\", \"Ave\": \"Avenue\",\"AVE\": \"Avenue\", \"Ave.\": \"Avenue\",\n",
    "           \"Av\": \"Avenue\", \"Av.\": \"Avenue\",\"Rd.\": \"Road\",\"Rd\": \"Road\", \"RD\": \"Road\", \"RD.\": \"Road\", \n",
    "           \"Dr.\": \"Drive\", \"Dr\": \"Drive\", \"Ctr\": \"Centre\", \"Ctr.\": \"Centre\",\"Cir\": \"Circle\", \n",
    "           \"Cir.\": \"Circle\", \"Ct\": \"Court\", \"Ct.\": \"Court\", \"Cts\": \"Court\",\"Cts.\": \"Court\", \n",
    "           \"PKWY\":\"Parkway\", \"Pkwy\":\"Parkway\", \"Pky\":\"Parkway\", 'Blvd':\"Boulevard\", 'Blvd.':\"Boulevard\" ,\n",
    "           'Ln':\"Lane\" }\n",
    "def update_name(name):\n",
    "    name = name.strip()\n",
    "    for key in mapping:\n",
    "        if name.endswith(key):\n",
    "            name = re.sub(key, mapping[key], name)\n",
    "    return name"
   ]
  },
  {
   "cell_type": "markdown",
   "metadata": {},
   "source": [
    "## NHD\n",
    "Based on the information found on the open street map [wikipedia](http://wiki.openstreetmap.org/wiki/Main_Page) page, NHD stands for National Hydrography Dataset. Howere the specific page for [NHD](http://wiki.openstreetmap.org/wiki/National_Hydrography_Dataset) was tagged for clean up at the time of this study. Therefore, The data for the NHD tags was not changed to avoid introducing new errors. However, the FCODEs were manually check to ensure they correspond to the listed feature types and no error was spotted. "
   ]
  },
  {
   "cell_type": "markdown",
   "metadata": {},
   "source": [
    "## TIGER and GNIST\n",
    "the wikipedia page gor [GNIST](http://wiki.openstreetmap.org/wiki/USGS_GNIS) states that GNIST stands for Geographic Names Information System. The GNIST data is rich and contains many attributes. However, because of the discrepancy in importing data at different points in time, some data wrangling is required to make the data uniform. For example both key of 'state_id' and 'ST_num' refer to 'State FIPS code'. A function called gnis_tiger_corrector corrects these issues.\n",
    "TIGER referes to the Topologically Integrated Geographic Encoding and Referencing system according to its wiki [page](http://wiki.openstreetmap.org/wiki/TIGER). The TIGER data in our dataset introduces several repetitions. For example, name_1=\n",
    "Elder Court Drive and tiger:name_base_1=Elder Court and tiger:name_type_1 = Dr, which introduces several rows refering to the name. THerefore the gnis_tiger_corrector function remove the rows that talk about name_base and name_type."
   ]
  },
  {
   "cell_type": "code",
   "execution_count": 3,
   "metadata": {
    "collapsed": false
   },
   "outputs": [],
   "source": [
    "# http://wiki.openstreetmap.org/wiki/USGS_GNIS\n",
    "gnis_dict ={'Class':'Feature Class name',\n",
    "            'County' : 'County name',\n",
    "            'County_num' : 'County FIPS code',\n",
    "            'ST_alpha' : 'State name (2-Letter)',\n",
    "            'ST_num' : 'State FIPS code',\n",
    "            'county_id' : 'County FIPS code',\n",
    "            'state_id' : 'State FIPS code'}\n",
    "def correct_key(key):\n",
    "    if key in gnis_dict:\n",
    "        key = gnis_dict[key]\n",
    "    return key\n",
    "\n",
    "def gnis_tiger_corrector(tags_df):\n",
    "    gnis_subset = tags_df[tags_df.type=='gnis']\n",
    "    gnis_subset['key']= gnis_subset['key'].apply(correct_key)\n",
    "    tags_df[tags_df.type=='gnis'] = gnis_subset\n",
    "    tags_df = tags_df[tags_df.key!='name_base_1']\n",
    "    tags_df = tags_df[tags_df.key!='name_base_2']\n",
    "    tags_df = tags_df[tags_df.key!='name_type_1']\n",
    "    tags_df = tags_df[tags_df.key!='name_type_2']\n",
    "    return tags_df"
   ]
  },
  {
   "cell_type": "markdown",
   "metadata": {},
   "source": [
    "## Making csv files\n",
    "In this section, data for nodes(locations) and ways(road) are imported and stored into panda dataframes to be written as csv files to be imported into the sql data base."
   ]
  },
  {
   "cell_type": "code",
   "execution_count": 10,
   "metadata": {
    "collapsed": true
   },
   "outputs": [],
   "source": [
    "# Column names for each csv file:\n",
    "NODE_FIELDS = ['id', 'lat', 'lon', 'user', 'uid', 'version', 'changeset', 'timestamp']\n",
    "NODE_TAGS_FIELDS = ['id', 'key', 'value', 'type']\n",
    "WAY_FIELDS = ['id', 'user', 'uid', 'version', 'changeset', 'timestamp']\n",
    "WAY_TAGS_FIELDS = ['id', 'key', 'value', 'type']\n",
    "WAY_NODES_FIELDS = ['id', 'node_id', 'position']"
   ]
  },
  {
   "cell_type": "code",
   "execution_count": 17,
   "metadata": {
    "collapsed": false
   },
   "outputs": [],
   "source": [
    "'''\n",
    "The \"node\" data frame holds a dictionary of the following top level node attributes:\n",
    "- id\n",
    "- user\n",
    "- uid\n",
    "- version\n",
    "- lat\n",
    "- lon\n",
    "- timestamp\n",
    "- changeset\n",
    "All other attributes can be ignored\n",
    "'''\n",
    "def nodes_maker(osmfile):\n",
    "    osm_file = open(osmfile, \"rb\")\n",
    "    nodes_dict = defaultdict(list)\n",
    "    for event, elem in ET.iterparse(osm_file, events=(\"start\",)):\n",
    "        if elem.tag == \"node\":\n",
    "            for field in NODE_FIELDS:\n",
    "                try:\n",
    "                    nodes_dict[field].append(elem.attrib[field])\n",
    "                except:\n",
    "                    print(\" Returned unknown for attribute: \",field)\n",
    "                    nodes_dict[field].append(float('nan'))\n",
    "    return nodes_dict\n",
    "    "
   ]
  },
  {
   "cell_type": "code",
   "execution_count": 18,
   "metadata": {
    "collapsed": false
   },
   "outputs": [],
   "source": [
    "'''\n",
    "The \"node_tags\" dataframe holds rows, one per secondary tag. Secondary tags are\n",
    "child tags of node which have the tag name/type: \"tag\". Each dictionary should have the following\n",
    "fields from the secondary tag attributes:\n",
    "- id: the top level node id attribute value\n",
    "- key: the full tag \"k\" attribute value if no colon is present or the characters after the colon if one is.\n",
    "- value: the tag \"v\" attribute value\n",
    "- type: either the characters before the colon in the tag \"k\" value or \"regular\" if a colon\n",
    "        is not present.\n",
    "\n",
    "Additionally,\n",
    "\n",
    "- if the tag \"k\" value contains problematic characters, the tag should be ignored\n",
    "- if the tag \"k\" value contains a \":\" the characters before the \":\" should be set as the tag type\n",
    "  and characters after the \":\" should be set as the tag key\n",
    "- if there are additional \":\" in the \"k\" value they and they should be ignored and kept as part of\n",
    "  the tag key. For example:\n",
    "\n",
    "  <tag k=\"addr:street:name\" v=\"Lincoln\"/>\n",
    "  should be turned into\n",
    "  {'id': 12345, 'key': 'street:name', 'value': 'Lincoln', 'type': 'addr'}\n",
    "\n",
    "- If a node has no secondary tags then the \"node_tags\" field should just contain an empty list.\n",
    "'''\n",
    "def nodes_tags_maker(osmfile):\n",
    "    osm_file = open(osmfile, \"rb\")\n",
    "    nodes_tags_dict = defaultdict(list)\n",
    "    for event, elem in ET.iterparse(osm_file, events=(\"start\",)):\n",
    "        if elem.tag == \"node\":\n",
    "            for subtag in elem.iter(\"tag\"):\n",
    "                if not problemchars.search(subtag.attrib['k']):\n",
    "                    nodes_tags_dict['id'].append(elem.attrib['id'])\n",
    "                    k= subtag.attrib['k']\n",
    "                    colon = lower_colon.search(k)\n",
    "                    if colon:\n",
    "                        k_split = k.split(\":\",1)\n",
    "                        nodes_tags_dict['key'].append(k_split[1])\n",
    "                        nodes_tags_dict['type'].append(k_split[0])\n",
    "                    else:\n",
    "                        nodes_tags_dict['key'].append(k)\n",
    "                        nodes_tags_dict['type'].append('regular')\n",
    "                    nodes_tags_dict['value'].append(subtag.attrib['v'])\n",
    "    return nodes_tags_dict\n",
    "   "
   ]
  },
  {
   "cell_type": "code",
   "execution_count": 19,
   "metadata": {
    "collapsed": true
   },
   "outputs": [],
   "source": [
    "'''\n",
    "The \"way\" dataframe holds a dictionary of the following top level way attributes:\n",
    "- id\n",
    "-  user\n",
    "- uid\n",
    "- version\n",
    "- timestamp\n",
    "- changeset\n",
    "\n",
    "All other attributes can be ignored\n",
    "'''\n",
    "def ways_maker(osmfile):\n",
    "    osm_file = open(osmfile, \"rb\")\n",
    "    ways_dict = defaultdict(list)\n",
    "    for event, elem in ET.iterparse(osm_file, events=(\"start\",)):\n",
    "        if elem.tag == \"way\":\n",
    "            for field in WAY_FIELDS:\n",
    "                try:\n",
    "                    ways_dict[field].append(elem.attrib[field])\n",
    "                except:\n",
    "                    #print(\" Returned unknown for attribute: \",atb)\n",
    "                    ways_dict[field].append(float('nan'))\n",
    "    return ways_dict\n",
    "    "
   ]
  },
  {
   "cell_type": "code",
   "execution_count": 20,
   "metadata": {
    "collapsed": true
   },
   "outputs": [],
   "source": [
    "'''\n",
    "The \"way_tags\" dataframe again holds data, following the exact same rules as\n",
    "for \"node_tags\".\n",
    "'''\n",
    "def ways_tags_maker(osmfile):\n",
    "    osm_file = open(osmfile, \"rb\")\n",
    "    ways_tags_dict = defaultdict(list)\n",
    "    for event, elem in ET.iterparse(osm_file, events=(\"start\",)):\n",
    "        if elem.tag == \"way\":\n",
    "            for subtag in elem.iter(\"tag\"):\n",
    "                if not problemchars.search(subtag.attrib['k']):\n",
    "                    ways_tags_dict['id'].append(elem.attrib['id'])\n",
    "                    k= subtag.attrib['k']\n",
    "                    colon = lower_colon.search(k)\n",
    "                    if colon:\n",
    "                        k_split = k.split(\":\",1)\n",
    "                        ways_tags_dict['key'].append(k_split[1])\n",
    "                        ways_tags_dict['type'].append(k_split[0])\n",
    "                    else:\n",
    "                        ways_tags_dict['key'].append(k)\n",
    "                        ways_tags_dict['type'].append('regular')\n",
    "                    ways_tags_dict['value'].append(subtag.attrib['v'])\n",
    "    return ways_tags_dict\n",
    "   "
   ]
  },
  {
   "cell_type": "code",
   "execution_count": 21,
   "metadata": {
    "collapsed": true
   },
   "outputs": [],
   "source": [
    "'''\n",
    "dditionally, the \"way_nodes\". \"way_nodes\" dataframe holds rows,\n",
    "one for each nd child tag.  Each row should have the fields:\n",
    "- id: the top level element (way) id\n",
    "- node_id: the ref attribute value of the nd tag\n",
    "- position: the index starting at 0 of the nd tag i.e. what order the nd tag appears within\n",
    "            the way element\n",
    "'''\n",
    "def ways_nodes_maker(osmfile):\n",
    "    osm_file = open(osmfile, \"rb\")\n",
    "    ways_nodes_dict = defaultdict(list)\n",
    "    for event, elem in ET.iterparse(osm_file, events=(\"start\",)):\n",
    "        if elem.tag == \"way\":\n",
    "            pos = 0\n",
    "            for subtag in elem.iter(\"nd\"):\n",
    "                if not problemchars.search(subtag.attrib['ref']):\n",
    "                    ways_nodes_dict['id'].append(elem.attrib['id'])\n",
    "                    ways_nodes_dict['node_id'].append(subtag.attrib['ref'])\n",
    "                    ways_nodes_dict['position'].append(pos)\n",
    "                    pos = pos+1\n",
    "\n",
    "    return ways_nodes_dict\n",
    "   "
   ]
  },
  {
   "cell_type": "markdown",
   "metadata": {},
   "source": [
    "First, dictionaries are made with the required columns as keys."
   ]
  },
  {
   "cell_type": "code",
   "execution_count": 22,
   "metadata": {
    "collapsed": false
   },
   "outputs": [
    {
     "name": "stdout",
     "output_type": "stream",
     "text": [
      " Returned unknown for attribute:  user\n",
      " Returned unknown for attribute:  uid\n",
      " Returned unknown for attribute:  user\n",
      " Returned unknown for attribute:  uid\n"
     ]
    }
   ],
   "source": [
    "nodes_dict= nodes_maker(data_file)\n",
    "nodes_tags_dict= nodes_tags_maker(data_file)\n",
    "ways_dict = ways_maker(data_file)\n",
    "ways_tags_dict = ways_tags_maker(data_file)\n",
    "ways_nodes_dict = ways_nodes_maker(data_file)"
   ]
  },
  {
   "cell_type": "markdown",
   "metadata": {},
   "source": [
    "Then, the dictionaries are transformed into dataframes"
   ]
  },
  {
   "cell_type": "code",
   "execution_count": 33,
   "metadata": {
    "collapsed": true
   },
   "outputs": [],
   "source": [
    "nodes_tags = pd.DataFrame(nodes_tags_dict)\n",
    "nodes = pd.DataFrame(nodes_dict)\n",
    "ways = pd.DataFrame(ways_dict)\n",
    "ways_tags = pd.DataFrame(ways_tags_dict)\n",
    "ways_nodes = pd.DataFrame(ways_nodes_dict)\n",
    "nodes = nodes.fillna(method='ffill')\n",
    "ways = ways.fillna(method='ffill')"
   ]
  },
  {
   "cell_type": "markdown",
   "metadata": {},
   "source": [
    "At this stage, street names are corrected using the update_name function to correct for abbreviations. Additionall,  the gnis_tiger_corrctor function is applied to correct the GNIS and TIGER rows as explained previously."
   ]
  },
  {
   "cell_type": "code",
   "execution_count": 34,
   "metadata": {
    "collapsed": false
   },
   "outputs": [
    {
     "name": "stderr",
     "output_type": "stream",
     "text": [
      "C:\\Anaconda3\\lib\\site-packages\\ipykernel\\__main__.py:16: SettingWithCopyWarning: \n",
      "A value is trying to be set on a copy of a slice from a DataFrame.\n",
      "Try using .loc[row_indexer,col_indexer] = value instead\n",
      "\n",
      "See the caveats in the documentation: http://pandas.pydata.org/pandas-docs/stable/indexing.html#indexing-view-versus-copy\n"
     ]
    }
   ],
   "source": [
    "nodes_tags['value'] = nodes_tags['value'].apply(update_name)\n",
    "ways_tags['value'] = ways_tags['value'].apply(update_name)\n",
    "ways_tags = gnis_tiger_corrector(ways_tags)\n",
    "nodes_tags = gnis_tiger_corrector(nodes_tags)"
   ]
  },
  {
   "cell_type": "markdown",
   "metadata": {},
   "source": [
    "Parts of the dataframes are inspected and checked with raw data for quality control."
   ]
  },
  {
   "cell_type": "code",
   "execution_count": 35,
   "metadata": {
    "collapsed": false
   },
   "outputs": [
    {
     "data": {
      "text/html": [
       "<div>\n",
       "<table border=\"1\" class=\"dataframe\">\n",
       "  <thead>\n",
       "    <tr style=\"text-align: right;\">\n",
       "      <th></th>\n",
       "      <th>changeset</th>\n",
       "      <th>id</th>\n",
       "      <th>lat</th>\n",
       "      <th>lon</th>\n",
       "      <th>timestamp</th>\n",
       "      <th>uid</th>\n",
       "      <th>user</th>\n",
       "      <th>version</th>\n",
       "    </tr>\n",
       "  </thead>\n",
       "  <tbody>\n",
       "    <tr>\n",
       "      <th>0</th>\n",
       "      <td>37181195</td>\n",
       "      <td>29409586</td>\n",
       "      <td>38.6239891</td>\n",
       "      <td>-90.2035946</td>\n",
       "      <td>2016-02-13T06:36:43Z</td>\n",
       "      <td>3519193</td>\n",
       "      <td>banjavjs</td>\n",
       "      <td>40</td>\n",
       "    </tr>\n",
       "    <tr>\n",
       "      <th>1</th>\n",
       "      <td>37181195</td>\n",
       "      <td>29409587</td>\n",
       "      <td>38.6242387</td>\n",
       "      <td>-90.204571</td>\n",
       "      <td>2016-02-13T06:36:43Z</td>\n",
       "      <td>3519193</td>\n",
       "      <td>banjavjs</td>\n",
       "      <td>46</td>\n",
       "    </tr>\n",
       "    <tr>\n",
       "      <th>2</th>\n",
       "      <td>37181195</td>\n",
       "      <td>29409588</td>\n",
       "      <td>38.6247124</td>\n",
       "      <td>-90.2069082</td>\n",
       "      <td>2016-02-13T06:36:43Z</td>\n",
       "      <td>3519193</td>\n",
       "      <td>banjavjs</td>\n",
       "      <td>41</td>\n",
       "    </tr>\n",
       "    <tr>\n",
       "      <th>3</th>\n",
       "      <td>37181195</td>\n",
       "      <td>29409589</td>\n",
       "      <td>38.6251268</td>\n",
       "      <td>-90.2084583</td>\n",
       "      <td>2016-02-13T06:36:43Z</td>\n",
       "      <td>3519193</td>\n",
       "      <td>banjavjs</td>\n",
       "      <td>41</td>\n",
       "    </tr>\n",
       "    <tr>\n",
       "      <th>4</th>\n",
       "      <td>37181195</td>\n",
       "      <td>29409590</td>\n",
       "      <td>38.6263375</td>\n",
       "      <td>-90.2121813</td>\n",
       "      <td>2016-02-13T06:36:43Z</td>\n",
       "      <td>3519193</td>\n",
       "      <td>banjavjs</td>\n",
       "      <td>43</td>\n",
       "    </tr>\n",
       "    <tr>\n",
       "      <th>5</th>\n",
       "      <td>255409</td>\n",
       "      <td>29409591</td>\n",
       "      <td>38.6270773</td>\n",
       "      <td>-90.2157044</td>\n",
       "      <td>2008-12-08T08:16:19Z</td>\n",
       "      <td>9065</td>\n",
       "      <td>brianboru</td>\n",
       "      <td>40</td>\n",
       "    </tr>\n",
       "    <tr>\n",
       "      <th>6</th>\n",
       "      <td>37181195</td>\n",
       "      <td>29409593</td>\n",
       "      <td>38.6277329</td>\n",
       "      <td>-90.2182167</td>\n",
       "      <td>2016-02-13T06:36:43Z</td>\n",
       "      <td>3519193</td>\n",
       "      <td>banjavjs</td>\n",
       "      <td>41</td>\n",
       "    </tr>\n",
       "    <tr>\n",
       "      <th>7</th>\n",
       "      <td>37181195</td>\n",
       "      <td>29409633</td>\n",
       "      <td>38.6321968</td>\n",
       "      <td>-90.2914039</td>\n",
       "      <td>2016-02-13T06:36:43Z</td>\n",
       "      <td>3519193</td>\n",
       "      <td>banjavjs</td>\n",
       "      <td>42</td>\n",
       "    </tr>\n",
       "    <tr>\n",
       "      <th>8</th>\n",
       "      <td>12913007</td>\n",
       "      <td>29409634</td>\n",
       "      <td>38.6322875</td>\n",
       "      <td>-90.292412</td>\n",
       "      <td>2012-08-30T04:05:54Z</td>\n",
       "      <td>10786</td>\n",
       "      <td>stucki1</td>\n",
       "      <td>40</td>\n",
       "    </tr>\n",
       "    <tr>\n",
       "      <th>9</th>\n",
       "      <td>37181195</td>\n",
       "      <td>29409635</td>\n",
       "      <td>38.6324014</td>\n",
       "      <td>-90.2934867</td>\n",
       "      <td>2016-02-13T06:36:43Z</td>\n",
       "      <td>3519193</td>\n",
       "      <td>banjavjs</td>\n",
       "      <td>40</td>\n",
       "    </tr>\n",
       "  </tbody>\n",
       "</table>\n",
       "</div>"
      ],
      "text/plain": [
       "  changeset        id         lat          lon             timestamp      uid  \\\n",
       "0  37181195  29409586  38.6239891  -90.2035946  2016-02-13T06:36:43Z  3519193   \n",
       "1  37181195  29409587  38.6242387   -90.204571  2016-02-13T06:36:43Z  3519193   \n",
       "2  37181195  29409588  38.6247124  -90.2069082  2016-02-13T06:36:43Z  3519193   \n",
       "3  37181195  29409589  38.6251268  -90.2084583  2016-02-13T06:36:43Z  3519193   \n",
       "4  37181195  29409590  38.6263375  -90.2121813  2016-02-13T06:36:43Z  3519193   \n",
       "5    255409  29409591  38.6270773  -90.2157044  2008-12-08T08:16:19Z     9065   \n",
       "6  37181195  29409593  38.6277329  -90.2182167  2016-02-13T06:36:43Z  3519193   \n",
       "7  37181195  29409633  38.6321968  -90.2914039  2016-02-13T06:36:43Z  3519193   \n",
       "8  12913007  29409634  38.6322875   -90.292412  2012-08-30T04:05:54Z    10786   \n",
       "9  37181195  29409635  38.6324014  -90.2934867  2016-02-13T06:36:43Z  3519193   \n",
       "\n",
       "        user version  \n",
       "0   banjavjs      40  \n",
       "1   banjavjs      46  \n",
       "2   banjavjs      41  \n",
       "3   banjavjs      41  \n",
       "4   banjavjs      43  \n",
       "5  brianboru      40  \n",
       "6   banjavjs      41  \n",
       "7   banjavjs      42  \n",
       "8    stucki1      40  \n",
       "9   banjavjs      40  "
      ]
     },
     "execution_count": 35,
     "metadata": {},
     "output_type": "execute_result"
    }
   ],
   "source": [
    "nodes.head(10)"
   ]
  },
  {
   "cell_type": "code",
   "execution_count": 36,
   "metadata": {
    "collapsed": false
   },
   "outputs": [
    {
     "data": {
      "text/html": [
       "<div>\n",
       "<table border=\"1\" class=\"dataframe\">\n",
       "  <thead>\n",
       "    <tr style=\"text-align: right;\">\n",
       "      <th></th>\n",
       "      <th>id</th>\n",
       "      <th>key</th>\n",
       "      <th>type</th>\n",
       "      <th>value</th>\n",
       "    </tr>\n",
       "  </thead>\n",
       "  <tbody>\n",
       "    <tr>\n",
       "      <th>0</th>\n",
       "      <td>33053227</td>\n",
       "      <td>ref</td>\n",
       "      <td>regular</td>\n",
       "      <td>243C</td>\n",
       "    </tr>\n",
       "    <tr>\n",
       "      <th>1</th>\n",
       "      <td>33053227</td>\n",
       "      <td>highway</td>\n",
       "      <td>regular</td>\n",
       "      <td>motorway_junction</td>\n",
       "    </tr>\n",
       "    <tr>\n",
       "      <th>2</th>\n",
       "      <td>33053242</td>\n",
       "      <td>ref</td>\n",
       "      <td>regular</td>\n",
       "      <td>241A</td>\n",
       "    </tr>\n",
       "    <tr>\n",
       "      <th>3</th>\n",
       "      <td>33053242</td>\n",
       "      <td>highway</td>\n",
       "      <td>regular</td>\n",
       "      <td>motorway_junction</td>\n",
       "    </tr>\n",
       "    <tr>\n",
       "      <th>4</th>\n",
       "      <td>33056507</td>\n",
       "      <td>highway</td>\n",
       "      <td>regular</td>\n",
       "      <td>traffic_signals</td>\n",
       "    </tr>\n",
       "  </tbody>\n",
       "</table>\n",
       "</div>"
      ],
      "text/plain": [
       "         id      key     type              value\n",
       "0  33053227      ref  regular               243C\n",
       "1  33053227  highway  regular  motorway_junction\n",
       "2  33053242      ref  regular               241A\n",
       "3  33053242  highway  regular  motorway_junction\n",
       "4  33056507  highway  regular    traffic_signals"
      ]
     },
     "execution_count": 36,
     "metadata": {},
     "output_type": "execute_result"
    }
   ],
   "source": [
    "nodes_tags.head()"
   ]
  },
  {
   "cell_type": "code",
   "execution_count": 37,
   "metadata": {
    "collapsed": false,
    "scrolled": true
   },
   "outputs": [
    {
     "data": {
      "text/html": [
       "<div>\n",
       "<table border=\"1\" class=\"dataframe\">\n",
       "  <thead>\n",
       "    <tr style=\"text-align: right;\">\n",
       "      <th></th>\n",
       "      <th>changeset</th>\n",
       "      <th>id</th>\n",
       "      <th>timestamp</th>\n",
       "      <th>uid</th>\n",
       "      <th>user</th>\n",
       "      <th>version</th>\n",
       "    </tr>\n",
       "  </thead>\n",
       "  <tbody>\n",
       "    <tr>\n",
       "      <th>0</th>\n",
       "      <td>21431926</td>\n",
       "      <td>4630360</td>\n",
       "      <td>2014-04-01T04:02:47Z</td>\n",
       "      <td>262151</td>\n",
       "      <td>ToeBee</td>\n",
       "      <td>34</td>\n",
       "    </tr>\n",
       "    <tr>\n",
       "      <th>1</th>\n",
       "      <td>22015454</td>\n",
       "      <td>4984188</td>\n",
       "      <td>2014-04-29T05:21:02Z</td>\n",
       "      <td>262151</td>\n",
       "      <td>ToeBee</td>\n",
       "      <td>19</td>\n",
       "    </tr>\n",
       "    <tr>\n",
       "      <th>2</th>\n",
       "      <td>36762884</td>\n",
       "      <td>4984291</td>\n",
       "      <td>2016-01-23T18:04:57Z</td>\n",
       "      <td>3519193</td>\n",
       "      <td>banjavjs</td>\n",
       "      <td>13</td>\n",
       "    </tr>\n",
       "    <tr>\n",
       "      <th>3</th>\n",
       "      <td>40192973</td>\n",
       "      <td>4984322</td>\n",
       "      <td>2016-06-21T22:25:31Z</td>\n",
       "      <td>83518</td>\n",
       "      <td>Millbrooky</td>\n",
       "      <td>10</td>\n",
       "    </tr>\n",
       "    <tr>\n",
       "      <th>4</th>\n",
       "      <td>26105104</td>\n",
       "      <td>4984405</td>\n",
       "      <td>2014-10-15T21:01:38Z</td>\n",
       "      <td>83518</td>\n",
       "      <td>Millbrooky</td>\n",
       "      <td>31</td>\n",
       "    </tr>\n",
       "  </tbody>\n",
       "</table>\n",
       "</div>"
      ],
      "text/plain": [
       "  changeset       id             timestamp      uid        user version\n",
       "0  21431926  4630360  2014-04-01T04:02:47Z   262151      ToeBee      34\n",
       "1  22015454  4984188  2014-04-29T05:21:02Z   262151      ToeBee      19\n",
       "2  36762884  4984291  2016-01-23T18:04:57Z  3519193    banjavjs      13\n",
       "3  40192973  4984322  2016-06-21T22:25:31Z    83518  Millbrooky      10\n",
       "4  26105104  4984405  2014-10-15T21:01:38Z    83518  Millbrooky      31"
      ]
     },
     "execution_count": 37,
     "metadata": {},
     "output_type": "execute_result"
    }
   ],
   "source": [
    "ways.head()"
   ]
  },
  {
   "cell_type": "code",
   "execution_count": 38,
   "metadata": {
    "collapsed": false
   },
   "outputs": [
    {
     "data": {
      "text/html": [
       "<div>\n",
       "<table border=\"1\" class=\"dataframe\">\n",
       "  <thead>\n",
       "    <tr style=\"text-align: right;\">\n",
       "      <th></th>\n",
       "      <th>id</th>\n",
       "      <th>key</th>\n",
       "      <th>type</th>\n",
       "      <th>value</th>\n",
       "    </tr>\n",
       "  </thead>\n",
       "  <tbody>\n",
       "    <tr>\n",
       "      <th>0</th>\n",
       "      <td>4630360</td>\n",
       "      <td>hgv</td>\n",
       "      <td>regular</td>\n",
       "      <td>designated</td>\n",
       "    </tr>\n",
       "    <tr>\n",
       "      <th>1</th>\n",
       "      <td>4630360</td>\n",
       "      <td>ref</td>\n",
       "      <td>regular</td>\n",
       "      <td>I 64;US 40</td>\n",
       "    </tr>\n",
       "    <tr>\n",
       "      <th>2</th>\n",
       "      <td>4630360</td>\n",
       "      <td>lanes</td>\n",
       "      <td>regular</td>\n",
       "      <td>3</td>\n",
       "    </tr>\n",
       "    <tr>\n",
       "      <th>3</th>\n",
       "      <td>4630360</td>\n",
       "      <td>oneway</td>\n",
       "      <td>regular</td>\n",
       "      <td>yes</td>\n",
       "    </tr>\n",
       "    <tr>\n",
       "      <th>4</th>\n",
       "      <td>4630360</td>\n",
       "      <td>highway</td>\n",
       "      <td>regular</td>\n",
       "      <td>motorway</td>\n",
       "    </tr>\n",
       "  </tbody>\n",
       "</table>\n",
       "</div>"
      ],
      "text/plain": [
       "        id      key     type       value\n",
       "0  4630360      hgv  regular  designated\n",
       "1  4630360      ref  regular  I 64;US 40\n",
       "2  4630360    lanes  regular           3\n",
       "3  4630360   oneway  regular         yes\n",
       "4  4630360  highway  regular    motorway"
      ]
     },
     "execution_count": 38,
     "metadata": {},
     "output_type": "execute_result"
    }
   ],
   "source": [
    "ways_tags.head()"
   ]
  },
  {
   "cell_type": "code",
   "execution_count": 39,
   "metadata": {
    "collapsed": false
   },
   "outputs": [
    {
     "data": {
      "text/html": [
       "<div>\n",
       "<table border=\"1\" class=\"dataframe\">\n",
       "  <thead>\n",
       "    <tr style=\"text-align: right;\">\n",
       "      <th></th>\n",
       "      <th>id</th>\n",
       "      <th>node_id</th>\n",
       "      <th>position</th>\n",
       "    </tr>\n",
       "  </thead>\n",
       "  <tbody>\n",
       "    <tr>\n",
       "      <th>0</th>\n",
       "      <td>4630360</td>\n",
       "      <td>313035047</td>\n",
       "      <td>0</td>\n",
       "    </tr>\n",
       "    <tr>\n",
       "      <th>1</th>\n",
       "      <td>4630360</td>\n",
       "      <td>1889319980</td>\n",
       "      <td>1</td>\n",
       "    </tr>\n",
       "    <tr>\n",
       "      <th>2</th>\n",
       "      <td>4630360</td>\n",
       "      <td>1889321000</td>\n",
       "      <td>2</td>\n",
       "    </tr>\n",
       "    <tr>\n",
       "      <th>3</th>\n",
       "      <td>4630360</td>\n",
       "      <td>313034719</td>\n",
       "      <td>3</td>\n",
       "    </tr>\n",
       "    <tr>\n",
       "      <th>4</th>\n",
       "      <td>4630360</td>\n",
       "      <td>560637753</td>\n",
       "      <td>4</td>\n",
       "    </tr>\n",
       "    <tr>\n",
       "      <th>5</th>\n",
       "      <td>4630360</td>\n",
       "      <td>560637759</td>\n",
       "      <td>5</td>\n",
       "    </tr>\n",
       "    <tr>\n",
       "      <th>6</th>\n",
       "      <td>4630360</td>\n",
       "      <td>1889320998</td>\n",
       "      <td>6</td>\n",
       "    </tr>\n",
       "    <tr>\n",
       "      <th>7</th>\n",
       "      <td>4630360</td>\n",
       "      <td>29410038</td>\n",
       "      <td>7</td>\n",
       "    </tr>\n",
       "    <tr>\n",
       "      <th>8</th>\n",
       "      <td>4630360</td>\n",
       "      <td>560637765</td>\n",
       "      <td>8</td>\n",
       "    </tr>\n",
       "    <tr>\n",
       "      <th>9</th>\n",
       "      <td>4630360</td>\n",
       "      <td>29410039</td>\n",
       "      <td>9</td>\n",
       "    </tr>\n",
       "  </tbody>\n",
       "</table>\n",
       "</div>"
      ],
      "text/plain": [
       "        id     node_id  position\n",
       "0  4630360   313035047         0\n",
       "1  4630360  1889319980         1\n",
       "2  4630360  1889321000         2\n",
       "3  4630360   313034719         3\n",
       "4  4630360   560637753         4\n",
       "5  4630360   560637759         5\n",
       "6  4630360  1889320998         6\n",
       "7  4630360    29410038         7\n",
       "8  4630360   560637765         8\n",
       "9  4630360    29410039         9"
      ]
     },
     "execution_count": 39,
     "metadata": {},
     "output_type": "execute_result"
    }
   ],
   "source": [
    "ways_nodes.head(10)"
   ]
  },
  {
   "cell_type": "markdown",
   "metadata": {},
   "source": [
    "## Format change\n",
    "To store the data as sql tables, data must be in the required format.\n",
    "\n",
    "Order of the columns is also important and should match the order of the sql tables specified by the schema."
   ]
  },
  {
   "cell_type": "code",
   "execution_count": 40,
   "metadata": {
    "collapsed": false
   },
   "outputs": [
    {
     "data": {
      "text/plain": [
       "changeset    object\n",
       "id           object\n",
       "lat          object\n",
       "lon          object\n",
       "timestamp    object\n",
       "uid          object\n",
       "user         object\n",
       "version      object\n",
       "dtype: object"
      ]
     },
     "execution_count": 40,
     "metadata": {},
     "output_type": "execute_result"
    }
   ],
   "source": [
    "nodes.dtypes"
   ]
  },
  {
   "cell_type": "code",
   "execution_count": 41,
   "metadata": {
    "collapsed": false
   },
   "outputs": [],
   "source": [
    "nodes_int_columns = ['id', 'uid', 'version', 'changeset']\n",
    "nodes_float_columns= ['lat', 'lon']\n",
    "nodes_tags_int_columns = ['id']\n",
    "ways_int_columns = ['id', 'uid', 'changeset']\n",
    "ways_tags_int_columns = ['id']\n",
    "ways_nodes_int_columns = ['id','node_id', 'position']\n",
    "\n",
    "def format_corrector(dataframe, columns, format_func):\n",
    "    for col in columns:\n",
    "        dataframe[col] = dataframe[col].apply(format_func)\n",
    "    return dataframe"
   ]
  },
  {
   "cell_type": "code",
   "execution_count": 42,
   "metadata": {
    "collapsed": false
   },
   "outputs": [],
   "source": [
    "nodes = format_corrector(nodes, nodes_int_columns, int)\n",
    "nodes = format_corrector(nodes, nodes_float_columns, float)\n",
    "nodes_tags = format_corrector(nodes_tags, nodes_tags_int_columns, int)\n",
    "ways = format_corrector(ways, ways_int_columns, int)\n",
    "ways_tags = format_corrector(ways_tags, ways_tags_int_columns, int)\n",
    "ways_nodes = format_corrector(ways_nodes, ways_nodes_int_columns, int)\n",
    "nodes = nodes[['id', 'lat', 'lon', 'user', 'uid', 'version', 'changeset', 'timestamp']]\n",
    "nodes_tags = nodes_tags[['id', 'key', 'value', 'type']]\n",
    "ways = ways[['id', 'user', 'uid', 'version', 'changeset', 'timestamp']]\n",
    "ways_tags = ways_tags[['id', 'key', 'value', 'type']]\n",
    "ways_nodes = ways_nodes[['id', 'node_id', 'position']]"
   ]
  },
  {
   "cell_type": "code",
   "execution_count": 43,
   "metadata": {
    "collapsed": false
   },
   "outputs": [
    {
     "data": {
      "text/plain": [
       "id             int64\n",
       "lat          float64\n",
       "lon          float64\n",
       "user          object\n",
       "uid            int64\n",
       "version        int64\n",
       "changeset      int64\n",
       "timestamp     object\n",
       "dtype: object"
      ]
     },
     "execution_count": 43,
     "metadata": {},
     "output_type": "execute_result"
    }
   ],
   "source": [
    "nodes.dtypes"
   ]
  },
  {
   "cell_type": "markdown",
   "metadata": {},
   "source": [
    "## Save  pandas dataframes as csv"
   ]
  },
  {
   "cell_type": "code",
   "execution_count": 44,
   "metadata": {
    "collapsed": false
   },
   "outputs": [],
   "source": [
    "nodes.to_csv('nodes.csv', index=False, header=False)\n",
    "nodes_tags.to_csv('node_tags.csv', index=False, header=False)\n",
    "ways.to_csv('ways.csv', index=False, header=False)\n",
    "ways_tags.to_csv('ways_tags.csv', index=False, header=False)\n",
    "ways_nodes.to_csv('ways_nodes.csv', index=False, header=False)"
   ]
  },
  {
   "cell_type": "markdown",
   "metadata": {
    "collapsed": true
   },
   "source": [
    "## Data overview and analysis"
   ]
  },
  {
   "cell_type": "markdown",
   "metadata": {},
   "source": [
    "### File sizes\n",
    "\n",
    "- The  main OSM XML file is 360.2 Mb\n",
    "- The nodes.csv file is 135.9 Mb\n",
    "- The nodes_tags.csv file is 2.9 Mb\n",
    "- The ways.csv file is 9.4 Mb\n",
    "- The ways_tags.csv file is 31.7 Mb\n",
    "- The ways_nodes.csv file is 42.1 Mb\n",
    "- The SQL databse is 201.5 MB"
   ]
  },
  {
   "cell_type": "code",
   "execution_count": 56,
   "metadata": {
    "collapsed": false
   },
   "outputs": [
    {
     "data": {
      "text/plain": [
       "201.5"
      ]
     },
     "execution_count": 56,
     "metadata": {},
     "output_type": "execute_result"
    }
   ],
   "source": [
    "round(os.path.getsize('stl-map.db')/(1024*1024.0),1)\n"
   ]
  },
  {
   "cell_type": "markdown",
   "metadata": {},
   "source": [
    "### Number of nodes\n",
    "\n",
    "Based on the sql query there are 1729283 nodes in the data base."
   ]
  },
  {
   "cell_type": "code",
   "execution_count": 63,
   "metadata": {
    "collapsed": false
   },
   "outputs": [
    {
     "name": "stdout",
     "output_type": "stream",
     "text": [
      "[(1729283,)]\n"
     ]
    }
   ],
   "source": [
    "db = sql.connect(\"stl-map.db\")\n",
    "#db.row_factory = lambda cursor, row: row[0]\n",
    "c = db.cursor()\n",
    "QUERY = \"SELECT count(*) FROM nodes;\"\n",
    "result = c.execute(QUERY).fetchall()\n",
    "print(result)"
   ]
  },
  {
   "cell_type": "markdown",
   "metadata": {},
   "source": [
    "### Number of ways\n",
    "\n",
    "Based on the sql query there are 167289 ways in the data base."
   ]
  },
  {
   "cell_type": "code",
   "execution_count": 64,
   "metadata": {
    "collapsed": false
   },
   "outputs": [
    {
     "name": "stdout",
     "output_type": "stream",
     "text": [
      "[(167289,)]\n"
     ]
    }
   ],
   "source": [
    "c = db.cursor()\n",
    "QUERY = \"SELECT count(*) FROM ways;\"\n",
    "result = c.execute(QUERY).fetchall()\n",
    "print(result)"
   ]
  },
  {
   "cell_type": "markdown",
   "metadata": {},
   "source": [
    "### Number of unique users\n",
    "Based on the sql query 1074 unique user contributed to the nodes data base and 873 unique user contributed to the nodes data base."
   ]
  },
  {
   "cell_type": "code",
   "execution_count": 85,
   "metadata": {
    "collapsed": false
   },
   "outputs": [
    {
     "name": "stdout",
     "output_type": "stream",
     "text": [
      "[(1074,)]\n"
     ]
    }
   ],
   "source": [
    "c = db.cursor()\n",
    "QUERY = \"SELECT  count(*) FROM (SELECT DISTINCT uid FROM nodes) as unique_users ;\"\n",
    "result = c.execute(QUERY).fetchall()\n",
    "print(result)"
   ]
  },
  {
   "cell_type": "code",
   "execution_count": 86,
   "metadata": {
    "collapsed": false
   },
   "outputs": [
    {
     "name": "stdout",
     "output_type": "stream",
     "text": [
      "[(873,)]\n"
     ]
    }
   ],
   "source": [
    "c = db.cursor()\n",
    "QUERY = \"SELECT  count(*) FROM (SELECT DISTINCT uid FROM ways) as unique_users ;\"\n",
    "result = c.execute(QUERY).fetchall()\n",
    "print(result)"
   ]
  },
  {
   "cell_type": "markdown",
   "metadata": {},
   "source": [
    "### Number of fueling nodes\n",
    "Based on the sql query there are 132 fueling nodes in the St.Louis area."
   ]
  },
  {
   "cell_type": "code",
   "execution_count": 91,
   "metadata": {
    "collapsed": false
   },
   "outputs": [
    {
     "name": "stdout",
     "output_type": "stream",
     "text": [
      "[(132,)]\n"
     ]
    }
   ],
   "source": [
    "c = db.cursor()\n",
    "QUERY = \"SELECT  count(*) FROM nodes_tags WHERE nodes_tags.value='fuel';\"\n",
    "result = c.execute(QUERY).fetchall()\n",
    "print(result)"
   ]
  },
  {
   "cell_type": "markdown",
   "metadata": {},
   "source": [
    "### Top 5 amenities\n",
    " The top amenity in the St.Louis area is pace of worship with 1529 nodes, rank 2 to 5 are schools, grave yards, parkings, and restaurants."
   ]
  },
  {
   "cell_type": "code",
   "execution_count": 96,
   "metadata": {
    "collapsed": false
   },
   "outputs": [
    {
     "name": "stdout",
     "output_type": "stream",
     "text": [
      "[('place_of_worship', 1529), ('school', 911), ('grave_yard', 528), ('parking', 431), ('restaurant', 411)]\n"
     ]
    }
   ],
   "source": [
    "c = db.cursor()\n",
    "QUERY = \"SELECT value, count(*) as num FROM nodes_tags WHERE key='amenity' GROUP BY value ORDER BY num desc LIMIT 5;\"\n",
    "result = c.execute(QUERY).fetchall()\n",
    "print(result)"
   ]
  },
  {
   "cell_type": "markdown",
   "metadata": {},
   "source": [
    "### Top 5 cuisins near downtown st. Louis\n",
    "Base on latitude and longitude of the downtown St.Louis area, top cuisines are American, Italian, pizza, barbecue, and burger restaurants. There are 6 American restaurants in the neighborhood."
   ]
  },
  {
   "cell_type": "code",
   "execution_count": 103,
   "metadata": {
    "collapsed": false
   },
   "outputs": [
    {
     "name": "stdout",
     "output_type": "stream",
     "text": [
      "[('american', 6), ('italian', 6), ('pizza', 3), ('barbecue', 2), ('burger', 2)]\n"
     ]
    }
   ],
   "source": [
    "c = db.cursor()\n",
    "QUERY = \"SELECT nodes_tags.value, COUNT(*) as num FROM nodes_tags , nodes, \\\n",
    "    (SELECT DISTINCT(id) FROM nodes_tags WHERE value='restaurant') i \\\n",
    "    WHERE nodes_tags.id=i.id and nodes_tags.id=nodes.id and nodes_tags.key='cuisine' \\\n",
    "    and nodes.lat>38.6171589 and nodes.lat<38.6349988 and nodes.lon>-90.2091266 and nodes.lon<-90.181812 \\\n",
    "GROUP BY nodes_tags.value ORDER BY num DESC limit 5;\"\n",
    "result = c.execute(QUERY).fetchall()\n",
    "print(result)"
   ]
  },
  {
   "cell_type": "markdown",
   "metadata": {},
   "source": [
    "## Other ideas"
   ]
  },
  {
   "cell_type": "markdown",
   "metadata": {},
   "source": [
    "Based on my observation, the number of contributors can be dramatically increase by implementing some programs using schools. One can provide guideline on how students should import data into the openstreetmap and what standards need to be kept. If several highschools in each area assign data addition as tasks in their progrramming classes, a lot of data can be collected and imported.\n",
    "\n",
    "Benefits:\n",
    "- Free and precise workforce to add the data\n",
    "- A great experience for the students to get involved in a real life data analysis.\n",
    "\n",
    "Anticipated problems:\n",
    "- Needs some man power to establish the program and advertise it to schools.\n",
    "- Quality of the data might vary due to the variation in interest of students.\n"
   ]
  }
 ],
 "metadata": {
  "anaconda-cloud": {},
  "kernelspec": {
   "display_name": "Python [Root]",
   "language": "python",
   "name": "Python [Root]"
  },
  "language_info": {
   "codemirror_mode": {
    "name": "ipython",
    "version": 3
   },
   "file_extension": ".py",
   "mimetype": "text/x-python",
   "name": "python",
   "nbconvert_exporter": "python",
   "pygments_lexer": "ipython3",
   "version": "3.5.2"
  }
 },
 "nbformat": 4,
 "nbformat_minor": 1
}
